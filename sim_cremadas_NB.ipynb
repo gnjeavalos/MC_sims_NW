{
 "cells": [
  {
   "cell_type": "markdown",
   "metadata": {},
   "source": [
    "Created on Tue Oct 31 11:45:51 2017\n",
    "\n",
    "@author: gnjeavalos"
   ]
  },
  {
   "cell_type": "code",
   "execution_count": 18,
   "metadata": {
    "collapsed": false
   },
   "outputs": [],
   "source": [
    "import cython\n",
    "from numba import jit, autojit\n",
    "from IPython.core.magic import *\n",
    "import time\n",
    "import math\n",
    "import numpy as np\n",
    "import matplotlib.mlab as mlab\n",
    "import matplotlib.pyplot as plt\n",
    "from scipy import stats\n",
    "from sklearn.metrics import mean_squared_error\n",
    "from IPython.core.interactiveshell import InteractiveShell\n",
    "InteractiveShell.ast_node_interactivity = \"all\""
   ]
  },
  {
   "cell_type": "markdown",
   "metadata": {
    "collapsed": true
   },
   "source": [
    "\"\"\"fsadfasd\"\"\"\""
   ]
  },
  {
   "cell_type": "code",
   "execution_count": 19,
   "metadata": {
    "collapsed": true
   },
   "outputs": [],
   "source": [
    "start = time.time()"
   ]
  },
  {
   "cell_type": "markdown",
   "metadata": {},
   "source": [
    "dsfasdgdsfg"
   ]
  },
  {
   "cell_type": "markdown",
   "metadata": {},
   "source": [
    "# #fasdfasdgfas"
   ]
  },
  {
   "cell_type": "code",
   "execution_count": 20,
   "metadata": {
    "collapsed": true
   },
   "outputs": [],
   "source": [
    "p_m = 30\n",
    "pc = 24\n",
    "\n",
    "#ns = 6 #numero sanduches\n",
    "#np = 12 # numero paquetes\n",
    "ns = 6*12 #Cantidad total de sanduches en multiempaque\n",
    "attempts = 30000"
   ]
  },
  {
   "cell_type": "code",
   "execution_count": 21,
   "metadata": {
    "collapsed": true
   },
   "outputs": [],
   "source": [
    "#Funciones\n",
    "\n",
    "@autojit \n",
    "@cython.boundscheck(False)\n",
    "@cython.wraparound(False)   \n",
    "def pes_c(pc):\n",
    "    \"\"\"Idem to cal() but for weight\n",
    "    \"\"\"\n",
    "    if np.random.randint(0, 2) == 0:\n",
    "        r = 0\n",
    "        s = 0\n",
    "\n",
    "    else:\n",
    "        r = 1\n",
    "        if np.random.randint(0, 2) == 1:\n",
    "\n",
    "            s = 1\n",
    "        else:\n",
    "            s = -1\n",
    "        if np.random.randint(0,2) == 1:\n",
    "            a = 1\n",
    "        else:\n",
    "            a = 2\n",
    "    inc = np.random.rand() #Para tratar el peso como variable continua, no discreta\n",
    "\n",
    "    p = pc + s*r*inc*a\n",
    "\n",
    "    return p\n",
    "\n",
    "@autojit \n",
    "@cython.boundscheck(False)\n",
    "@cython.wraparound(False)   \n",
    "def pes(pm):\n",
    "    \"\"\"Idem to cal() but for weight\n",
    "    \"\"\"\n",
    "    if np.random.randint(0, 2) == 0:\n",
    "        r = 0\n",
    "        s = 0\n",
    "\n",
    "    else:\n",
    "        r = 1\n",
    "        if np.random.randint(0, 2) == 1:\n",
    "\n",
    "            s = 1\n",
    "        else:\n",
    "            s = -1\n",
    "        if np.random.randint(0,2) == 1:\n",
    "            a = 1\n",
    "        else:\n",
    "            a = 2\n",
    "    inc = np.random.rand() #Para tratar el peso como variable continua, no discreta\n",
    "\n",
    "    p = (pm + s*r*inc*a)\n",
    "   #p = pm + s*r*inc*a\n",
    "\n",
    "    return p\n",
    "\n",
    "def san(pm,pc):\n",
    "    pt1 = pes(pm)\n",
    "    pt2 = pes(pm)\n",
    "    pcr = pes_c(pc)\n",
    "    ps = pt1 + pt2 + pcr\n",
    "    #print ps\n",
    "    return ps\n",
    "\n",
    "def sim_pq(ns,pm,pc):\n",
    "    \"\"\"ns: numero sanduches por pq\"\"\"\n",
    "    pq_R = np.zeros(ns) \n",
    "    #print pq_R\n",
    "    for i in range(ns):\n",
    "        pq_R[i] = san(pm,pc)/10.\n",
    "        #print pq_R\n",
    "    pq_Rsum = np.sum(pq_R)\n",
    "    return pq_Rsum\n",
    "\n",
    "peso_f6 = sim_pq(ns,p_m,pc)\n",
    "\n",
    "def sim_res(attempts,ns,pm,pc):\n",
    "    \"\"\"ns: numero sanduches por pq\"\"\"\n",
    "    res_R = np.zeros(attempts) \n",
    "    #print pq_R\n",
    "    for i in range(attempts):\n",
    "        res_R[i] = sim_pq(ns,p_m,pc)\n",
    "        #print pq_R\n",
    "#    pq_Rsum = np.sum(pq_R)\n",
    "    return res_R"
   ]
  },
  {
   "cell_type": "code",
   "execution_count": 22,
   "metadata": {
    "collapsed": false
   },
   "outputs": [
    {
     "name": "stdout",
     "output_type": "stream",
     "text": [
      "[ 604.77322157  604.66940374  604.38152929 ...,  605.64427194  604.11706044\n",
      "  604.117532  ]\n"
     ]
    },
    {
     "data": {
      "image/png": "[encoded data removed]",
      "text/plain": [
       "<matplotlib.figure.Figure at 0x7f2875b40910>"
      ]
     },
     "metadata": {},
     "output_type": "display_data"
    },
    {
     "name": "stdout",
     "output_type": "stream",
     "text": [
      "4.21861410141\n"
     ]
    }
   ],
   "source": [
    "Sim_f6 = sim_res(attempts,ns,p_m,pc)\n",
    "\n",
    "print Sim_f6\n",
    "\n",
    "nR, binsR, patchesR = plt.hist(Sim_f6, 20, normed=1, facecolor='blue', alpha=0.75)\n",
    "\n",
    "#Descriptivos\n",
    "muR = np.mean(Sim_f6)\n",
    "moR = stats.mode(Sim_f6)\n",
    "sigmaR = np.std(Sim_f6)\n",
    "# add a 'best fit' line\n",
    "yR = mlab.normpdf(binsR, muR, sigmaR)\n",
    "lR = plt.plot(binsR, yR, 'g--', linewidth=1)\n",
    "\n",
    "plt.show()\n",
    "\n",
    "\n",
    "np.savetxt(\"F6_NB_out.xls\", Sim_f6, delimiter=\",\", header=\"Peso_Neto\")\n",
    "end = time.time()\n",
    "print(end - start)"
   ]
  },
  {
   "cell_type": "code",
   "execution_count": 25,
   "metadata": {
    "collapsed": false
   },
   "outputs": [
    {
     "data": {
      "text/plain": [
       "True"
      ]
     },
     "execution_count": 25,
     "metadata": {},
     "output_type": "execute_result"
    }
   ],
   "source": [
    "import webbrowser\n",
    "# generate an URL\n",
    "url = 'https://' + 'controlgjea.shinyapps.io/DOE_ensayos/'\n",
    "webbrowser.open(url)"
   ]
  },
  {
   "cell_type": "code",
   "execution_count": null,
   "metadata": {
    "collapsed": true
   },
   "outputs": [],
   "source": [
    "\n",
    "\t\n",
    "\n",
    "There is a good introduction to ipywidgets at http://blog.dominodatalab.com/interactive-dashboards-in-jupyter/ which answers this question.\n",
    "\n",
    "You need two widgets, one for input, and another to bind the value of that input. Here's an example for text input:\n",
    "\n",
    "from ipywidgets import widgets  \n",
    "\n",
    "# Create text widget for output\n",
    "output_variable = widgets.Text()\n",
    "\n",
    "# Create text widget for input\n",
    "input_text = widgets.Text()\n",
    "\n",
    "# Define function to bind value of the input to the output variable \n",
    "def bind_input_to_output(sender):\n",
    "    output_text.value = input_text.value\n",
    "\n",
    "# Tell the text input widget to call bind_input_to_output() on submit\n",
    "input_text.on_submit(bind_input_to_output)\n",
    "\n",
    "# Display input text box widget for input\n",
    "input_text\n",
    "\n",
    "# Display output text box widget (will populate when value submitted in input)\n",
    "output_text\n",
    "\n",
    "# Display text value of string in output_text variable\n",
    "output_text.value\n",
    "\n",
    "# Define new string variable with value of output_text, do something to it\n",
    "uppercase_string = output_text.value.upper()\n",
    "print uppercase_string"
   ]
  }
 ],
 "metadata": {
  "kernelspec": {
   "display_name": "Python 2",
   "language": "python",
   "name": "python2"
  },
  "language_info": {
   "codemirror_mode": {
    "name": "ipython",
    "version": 2
   },
   "file_extension": ".py",
   "mimetype": "text/x-python",
   "name": "python",
   "nbconvert_exporter": "python",
   "pygments_lexer": "ipython2",
   "version": "2.7.12"
  }
 },
 "nbformat": 4,
 "nbformat_minor": 1
}
